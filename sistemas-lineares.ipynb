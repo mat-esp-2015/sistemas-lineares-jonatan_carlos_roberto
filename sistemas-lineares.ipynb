{
 "cells": [
  {
   "cell_type": "markdown",
   "metadata": {},
   "source": [
    "# Solução de sistemas lineares através da eliminação de Gauss"
   ]
  },
  {
   "cell_type": "markdown",
   "metadata": {},
   "source": [
    "## License\n",
    "\n",
    "All content can be freely used and adapted under the terms of the \n",
    "[Creative Commons Attribution 4.0 International License](http://creativecommons.org/licenses/by/4.0/).\n",
    "\n",
    "![Creative Commons License](https://i.creativecommons.org/l/by/4.0/88x31.png)"
   ]
  },
  {
   "cell_type": "markdown",
   "metadata": {},
   "source": [
    "## Imports\n",
    "\n",
    "Coloque **todos** os `import` na célula abaixo. Não se esqueça do `%matplotlib inline` para que os gráficos apareçam no notebook."
   ]
  },
  {
   "cell_type": "code",
   "execution_count": 1,
   "metadata": {
    "collapsed": true
   },
   "outputs": [],
   "source": [
    "import numpy as np"
   ]
  },
  {
   "cell_type": "markdown",
   "metadata": {},
   "source": [
    "## Tarefa\n",
    "\n",
    "Reduza o sistema linear $\\bar{\\bar{A}}\\bar{x} = \\bar{b}$ para sua forma escalonada (row echelon form)."
   ]
  },
  {
   "cell_type": "code",
   "execution_count": 2,
   "metadata": {
    "collapsed": false
   },
   "outputs": [],
   "source": [
    "N = 11  # Número de linhas\n",
    "M = 11  # Número de colunas\n",
    "sistema = [[25, 108, 58, 102, 61, 24, 39, 40, 67, 11, 5],\n",
    "           [51, 28, 17, 98, 105, 43, 86, 2, 71, 20, 95],\n",
    "           [56, 70, 109, 45, 117, 52, 97, 92, 1, 42, 78],\n",
    "           [59, 6, 50, 37, 120, 118, 104, 64, 53, 100, 66],\n",
    "           [82, 74, 68, 80, 16, 115, 63, 103, 60, 30, 93],\n",
    "           [79, 113, 65, 72, 22, 35, 101, 10, 83, 89, 85],\n",
    "           [34, 57, 90, 9, 14, 47, 76, 44, 26, 48, 114],\n",
    "           [41, 7, 21, 75, 33, 49, 32, 119, 46, 0, 87],\n",
    "           [91, 77, 55, 18, 106, 54, 116, 12, 13, 31, 38],\n",
    "           [27, 81, 29, 107, 84, 15, 3, 112, 88, 69, 19],\n",
    "           [110, 96, 23, 73, 36, 8, 99, 4, 94, 111, 62]]\n",
    "lado_direito = [3323, 2869, 4085, 3211, 4181, 3831, 2699, 2891, 3188, 3586, 3598]\n"
   ]
  },
  {
   "cell_type": "code",
   "execution_count": 5,
   "metadata": {
    "collapsed": false,
    "scrolled": true
   },
   "outputs": [],
   "source": [
    "# O trabalho estava sendo feito na célula errada (mais abaixo), e foi movido para cá.\n",
    "\n",
    "     \n",
    "def Abate(sistema,lado_direito,K,N,Inicio,Fim):#Abate a linha K sobre as demais abaixo dela\n",
    "    fator_a = sistema[K][K]    # fator a em -b/a\n",
    "    if fator_a == 0:\n",
    "        print(\"erro de divisao por zero\")# Algo deu errado....\n",
    "    else:       \n",
    "        for i in range(Inicio,Fim,1):\n",
    "            fator_x = sistema [i][K] \n",
    "        # fator x, em -b/a. Na verdade assume -b/a, -c/a, -d/a, -e/a, ... valores.\n",
    "            for j in range(K,N,1):\n",
    "                sistema[i][j] = sistema[i][j] - (fator_x/fator_a) * sistema[K][j]\n",
    "            lado_direito[i] = lado_direito[i] - (fator_x/fator_a) * lado_direito[K]  \n",
    "    return \n",
    "    # Obs\n",
    "    # sistema[K][K] = fator_a  e sistema [K+1][K] = fator_b.\n",
    "    #Logo o fator -b/a vale: -sistema[K+1][K]/sistema[K][K]   \n",
    "        \n",
    "        \n",
    "for K in range(0,N-1,1): #Para K variando de 0 a N-1 de um em um      \n",
    "          \n",
    "    Inicio = K+1\n",
    "    Fim = N\n",
    "    Abate(sistema,lado_direito,K,N,Inicio,Fim)"
   ]
  },
  {
   "cell_type": "markdown",
   "metadata": {},
   "source": [
    "### Resultado esperado\n",
    "\n",
    "Quando executada, a célula abaixo deverá imprimir exatamente:\n",
    "\n",
    "                                                   A                                                   |    b \n",
    "      25.000  108.000   58.000  102.000   61.000   24.000   39.000   40.000   67.000   11.000    5.000 | 3323.000\n",
    "       0.000 -192.320 -101.320 -110.080  -19.440   -5.960    6.440  -79.600  -65.680   -2.440   84.800 | -3909.920\n",
    "      -0.000    0.000   69.653  -85.077   -2.262    3.568    3.883   73.557  -90.367   19.541   -9.005 |  136.662\n",
    "       0.000    0.000    0.000   -7.233    2.634   66.807    1.160   25.893   37.269   64.787  -49.820 |  341.724\n",
    "       0.000    0.000    0.000    0.000 -177.918 -539.479  -85.844 -165.046 -356.419 -575.159  391.184 | -4053.756\n",
    "       0.000    0.000    0.000    0.000   -0.000 -539.656   43.030 -267.157 -271.025 -378.300  357.879 | -3235.329\n",
    "       0.000    0.000    0.000    0.000    0.000    0.000   55.468  -69.824   59.860   57.791   78.381 |  141.706\n",
    "       0.000    0.000    0.000    0.000    0.000    0.000    0.000   70.381   24.471   60.345  -29.950 |  741.794\n",
    "       0.000    0.000    0.000    0.000    0.000    0.000    0.000    0.000  -16.843 -126.224   62.584 |   57.797\n",
    "       0.000    0.000    0.000    0.000    0.000    0.000    0.000    0.000    0.000 -291.983  268.919 |  537.838\n",
    "      -0.000    0.000    0.000    0.000    0.000    0.000    0.000    0.000    0.000    0.000  -71.547 | -143.094\n"
   ]
  },
  {
   "cell_type": "code",
   "execution_count": 6,
   "metadata": {
    "collapsed": false,
    "scrolled": false
   },
   "outputs": [
    {
     "name": "stdout",
     "output_type": "stream",
     "text": [
      "                                      A                                      |    b \n",
      "  25.00  108.00   58.00  102.00   61.00   24.00   39.00   40.00   67.00   11.00    5.00 | 3323.00\n",
      "   0.00 -192.32 -101.32 -110.08  -19.44   -5.96    6.44  -79.60  -65.68   -2.44   84.80 | -3909.92\n",
      "   0.00    0.00   69.65  -85.08   -2.26    3.57    3.88   73.56  -90.37   19.54   -9.00 |  136.66\n",
      "   0.00    0.00    0.00   -7.23    2.63   66.81    1.16   25.89   37.27   64.79  -49.82 |  341.72\n",
      "   0.00    0.00    0.00    0.00 -177.92 -539.48  -85.84 -165.05 -356.42 -575.16  391.18 | -4053.76\n",
      "   0.00    0.00    0.00    0.00    0.00 -539.66   43.03 -267.16 -271.02 -378.30  357.88 | -3235.33\n",
      "   0.00    0.00    0.00    0.00    0.00    0.00   55.47  -69.82   59.86   57.79   78.38 |  141.71\n",
      "   0.00    0.00    0.00    0.00    0.00    0.00    0.00   70.38   24.47   60.34  -29.95 |  741.79\n",
      "   0.00    0.00    0.00    0.00    0.00    0.00    0.00    0.00  -16.84 -126.22   62.58 |   57.80\n",
      "   0.00    0.00    0.00    0.00    0.00    0.00    0.00    0.00    0.00 -291.98  268.92 |  537.84\n",
      "   0.00    0.00    0.00    0.00    0.00    0.00    0.00    0.00    0.00    0.00  -71.55 | -143.09\n"
     ]
    }
   ],
   "source": [
    "print('                                      A                                      |    b ')\n",
    "for i in range(N):\n",
    "    for j in range(M):\n",
    "        print('{:7.2f} '.format(sistema[i][j]), end='')\n",
    "    print('| {:7.2f}'.format(lado_direito[i]))\n",
    "    \n",
    "    # Ajustados os tamanhos do campos, para melhor apresentacao da matriz em um Netbook com tela pequena."
   ]
  },
  {
   "cell_type": "markdown",
   "metadata": {},
   "source": [
    "## Tarefa\n",
    "\n",
    "Utilize a matriz escalonada acima para encontrar a solução do sistema através da substituição retrocedida (back substitution). Coloque a solução em uma lista chamada `solucao`.\n",
    "\n",
    "**Dica**: \n",
    "\n",
    "* Para criar uma lista com um mesmo valor repetido N vezes: `[numero]*N`. Por exemplo, `[0]*4` resulta em `[0, 0, 0, 0]`."
   ]
  },
  {
   "cell_type": "code",
   "execution_count": 7,
   "metadata": {
    "collapsed": false
   },
   "outputs": [],
   "source": [
    "# Vou usar a função criada \" Abate \" duas vezes. Uma quando estiver escalonando,\n",
    "# e a outra quando estiver fazendo a (back substitution).\n",
    "\n",
    "for K in range(0,N-1,1): #Para K variando de 0 a N-1 de um em um\n",
    "    Inicio = K+1\n",
    "    Fim = N\n",
    "    Abate(sistema,lado_direito,K,N,Inicio,Fim)\n",
    " \n",
    "for K in range(0,N-1,1): #Para K variando de 0 a N-1 de um em um\n",
    "    R = (N-1)-K  # Como in range nao decrementa, fiz R (Ré) que varia de n-1 A 0\n",
    "    Inicio = 0\n",
    "    Fim = R\n",
    "    Abate(sistema,lado_direito,R,N,Inicio,Fim)   \n",
    " \n",
    "solucao = [0]*N\n",
    "if sistema[i][i] == 0:  # == > Acresentado apos o termino da tarefa bonus por padronizaçao e elegancia...\n",
    "    print(\"erro de divisao por zero\")# Algo deu errado....\n",
    "else:   \n",
    "\n",
    "    for i in range(N):\n",
    "        solucao[i] = lado_direito[i] / sistema[i][i]"
   ]
  },
  {
   "cell_type": "markdown",
   "metadata": {},
   "source": [
    "### Resultado esperado\n",
    "\n",
    "Quando executada, a célula abaixo deverá imprimir exatamente:\n",
    "\n",
    "    6.000000 9.000000 5.000000 7.000000 3.000000 1.000000 8.000000 10.000000 4.000000 0.000000 2.000000 "
   ]
  },
  {
   "cell_type": "code",
   "execution_count": 8,
   "metadata": {
    "collapsed": false
   },
   "outputs": [
    {
     "name": "stdout",
     "output_type": "stream",
     "text": [
      "6.000000 9.000000 5.000000 7.000000 3.000000 1.000000 8.000000 10.000000 4.000000 0.000000 2.000000 "
     ]
    }
   ],
   "source": [
    "for i in range(N):\n",
    "    print('{:8.6f} '.format(solucao[i]), end='')"
   ]
  },
  {
   "cell_type": "markdown",
   "metadata": {},
   "source": [
    "## Tarefa Bônus"
   ]
  },
  {
   "cell_type": "markdown",
   "metadata": {},
   "source": [
    "Sua tarefa será aplicar a eliminação de Gauss para resolver o sistema linear gerado abaixo."
   ]
  },
  {
   "cell_type": "code",
   "execution_count": 9,
   "metadata": {
    "collapsed": false
   },
   "outputs": [],
   "source": [
    "# Para tornar a vida mais interessante, vamos gerar um sistema linear aleatório\n",
    "N, M = 13, 13\n",
    "A = np.random.random_integers(10, 50, size=(N, M)).tolist()\n",
    "for i in range(N):\n",
    "    A[i][i] = 0\n",
    "b = np.dot(A, np.random.random_integers(1, 20, size=N)).tolist()"
   ]
  },
  {
   "cell_type": "code",
   "execution_count": 10,
   "metadata": {
    "collapsed": false,
    "scrolled": true
   },
   "outputs": [
    {
     "name": "stdout",
     "output_type": "stream",
     "text": [
      "                                                   A                                                    |    b \n",
      "    0.0    27.0    32.0    13.0    30.0    45.0    36.0    43.0    34.0    34.0    45.0    26.0    39.0 |  4085.0\n",
      "   20.0     0.0    15.0    47.0    20.0    50.0    25.0    27.0    49.0    29.0    38.0    19.0    13.0 |  3126.0\n",
      "   15.0    33.0     0.0    11.0    40.0    28.0    20.0    41.0    29.0    33.0    40.0    15.0    21.0 |  2957.0\n",
      "   18.0    40.0    37.0     0.0    13.0    18.0    47.0    11.0    28.0    49.0    49.0    44.0    13.0 |  3443.0\n",
      "   13.0    28.0    49.0    26.0     0.0    42.0    36.0    41.0    46.0    14.0    42.0    10.0    26.0 |  4316.0\n",
      "   49.0    38.0    11.0    40.0    13.0     0.0    36.0    44.0    24.0    42.0    27.0    24.0    48.0 |  3960.0\n",
      "   45.0    32.0    37.0    28.0    50.0    25.0     0.0    18.0    37.0    22.0    23.0    31.0    27.0 |  3552.0\n",
      "   26.0    40.0    41.0    37.0    38.0    24.0    47.0     0.0    42.0    23.0    14.0    30.0    43.0 |  4290.0\n",
      "   23.0    11.0    28.0    35.0    43.0    26.0    41.0    31.0     0.0    16.0    40.0    13.0    18.0 |  3202.0\n",
      "   21.0    44.0    23.0    33.0    50.0    19.0    40.0    11.0    15.0     0.0    24.0    39.0    12.0 |  3310.0\n",
      "   38.0    21.0    33.0    15.0    12.0    30.0    34.0    35.0    11.0    43.0     0.0    32.0    44.0 |  3937.0\n",
      "   39.0    20.0    34.0    19.0    39.0    18.0    24.0    22.0    48.0    23.0    12.0     0.0    48.0 |  3692.0\n",
      "   23.0    11.0    27.0    47.0    49.0    17.0    22.0    43.0    43.0    23.0    12.0    26.0     0.0 |  2885.0\n"
     ]
    }
   ],
   "source": [
    "print('                                                   A                                                    |    b ')\n",
    "for i in range(N):\n",
    "    for j in range(M):\n",
    "        print('{:7.1f} '.format(A[i][j]), end='')\n",
    "    print('| {:7.1f}'.format(b[i]))"
   ]
  },
  {
   "cell_type": "markdown",
   "metadata": {},
   "source": [
    "Porém, há um problema. Você não poderá fazer isso diretamente pois $A_{ii} == 0$ (a diagonal da matriz é zero). Logo, não há como dividir pelo elemento pivo e não há como aplicar a eliminação de Gauss nesse sistema. **Experimente aplicar a eliminação convencional que você implementou acima nesse sistema e veja o que acontece.**"
   ]
  },
  {
   "cell_type": "code",
   "execution_count": 11,
   "metadata": {
    "collapsed": false
   },
   "outputs": [
    {
     "name": "stdout",
     "output_type": "stream",
     "text": [
      "erro de divisao por zero\n",
      "erro de divisao por zero\n",
      "erro de divisao por zero\n",
      "erro de divisao por zero\n",
      "erro de divisao por zero\n",
      "erro de divisao por zero\n",
      "erro de divisao por zero\n",
      "erro de divisao por zero\n",
      "erro de divisao por zero\n",
      "erro de divisao por zero\n",
      "erro de divisao por zero\n",
      "erro de divisao por zero\n",
      "erro de divisao por zero\n",
      "erro de divisao por zero\n",
      "erro de divisao por zero\n",
      "erro de divisao por zero\n",
      "erro de divisao por zero\n",
      "erro de divisao por zero\n",
      "erro de divisao por zero\n",
      "erro de divisao por zero\n",
      "erro de divisao por zero\n",
      "erro de divisao por zero\n",
      "erro de divisao por zero\n",
      "erro de divisao por zero\n",
      "erro de divisao por zero\n"
     ]
    }
   ],
   "source": [
    "# OBS : Copia modificada da tarefa feita somente para este teste.\n",
    "# Vou usar a função criada Abate duas vezes. Uma quando estiver escalonando,\n",
    "# e a outra quando estiver fazendo a (back substitution).\n",
    "\n",
    "for K in range(0,N-1,1): #Para K variando de 0 a N-1 de um em um\n",
    "    Inicio = K+1\n",
    "    Fim = N\n",
    "    Abate(A,b,K,N,Inicio,Fim)\n",
    " \n",
    "for K in range(0,N-1,1): #Para K variando de 0 a N-1 de um em um\n",
    "    R = (N-1)-K  # Como in range nao decrementa, fiz R (Ré) que varia de n-1 A 0\n",
    "    Inicio = 0\n",
    "    Fim = R\n",
    "    Abate(A,b,R,N,Inicio,Fim)  \n",
    "    \n",
    "solucao = [0]*N\n",
    "if A[i][i] == 0:  # == > Acresentado apos o termino da tarefa bonus por padronizaçao e elegancia...\n",
    "                  # (Pois evita o Abend do interpretador)....\n",
    "    print(\"erro de divisao por zero\")# Algo deu errado....\n",
    "else:   \n",
    "    for i in range(N):\n",
    "        solucao[i] = b[i] / A[i][i]"
   ]
  },
  {
   "cell_type": "markdown",
   "metadata": {},
   "source": [
    "\n",
    "\n",
    "### Condensação pivotal (partial pivoting)\n",
    "\n",
    "Existe um método para contornar esse problema chamado **condensação pivotal** (partial pivoting). A ideia é que podemos trocar duas linhas do sistema de lugar sem alterar a solução. Logo, podemos tirar os elementos 0 da diagonal da matriz trocando por outra linha sem o 0 na posição do pivo. Um jeito melhor ainda de fazer isso é colocando a linha com o **maior elemento** possível na posição do pivo (veja [aqui uma ótima explicação disso](http://www.math.iitb.ac.in/~neela/partialpivot.pdf)). \n",
    "\n",
    "O método da eliminação de Gauss com condensação pivotal é:\n",
    "\n",
    "    Para cada linha k do sistema:\n",
    "        Ache a linha de A com o maior elemento na coluna k (só precisa considerar de k para baixo)\n",
    "        Troque a linha k com a linha determinada acima (não esqueça de trocar o lado direito também)\n",
    "        pivo = A[k][k]\n",
    "        Escalonamento para zerar a coluna k (igual ao feita na eliminação convencional)\n",
    "        \n",
    "        \n",
    "Resolva o sistema linear definido acima utilizando eliminação de Gauss com condensação pivotal. Coloque a solução em uma variável chamada `solucao`."
   ]
  },
  {
   "cell_type": "code",
   "execution_count": null,
   "metadata": {
    "collapsed": false
   },
   "outputs": [],
   "source": []
  },
  {
   "cell_type": "code",
   "execution_count": 12,
   "metadata": {
    "collapsed": false
   },
   "outputs": [],
   "source": [
    "# Sera utilizado o programa bubble sort como esqueleto da função LineSort\n",
    "# Mantive sempre que possível, por razoes \"historicas\", as mesmas variaveis usadas na tarefa Bubble Sort.\n",
    "# OBS: O Python aceita suprimir o segundo indexador, ou seja X[] é valido,\n",
    "#      mesmo que a variavel seja do tipo X[][].\n",
    "\n",
    "def LineSort(Cartas, b, Inicio, n):\n",
    "\n",
    "    #import matplotlib.pyplot as pl\n",
    "    #import numpy as np\n",
    "\n",
    "    ## declaracao do valor das cartas, e do numero total de cartas\n",
    "    #Cartas =  [11, 18, 3, 1, 16, 12, 6, 19, 5, 0, 14, 4, 17, 9, 13, 7, 10, 15, 2, 8]\n",
    "\n",
    "\n",
    "    ##declaracao de duas listas vazias para auxilio\n",
    "    #Maiores = [None] * 5\n",
    "    #Menores = [None] * 5\n",
    "    #n = 20\n",
    "\n",
    "\n",
    "    #print (\"lista original:\",Cartas)\n",
    "\n",
    "    #t=0\n",
    "    ## para cada carta, primeira carta, ate a penultima\n",
    "    for i in range(Inicio,n-1,1):\n",
    "    # e para cada uma das cartas seguintes ate a ultima\n",
    "        for j in range (i+1,n,1):\n",
    "    # comparar cada carta com todas as seguintes ate a ultima \n",
    "\n",
    "         \n",
    "\n",
    "            #if abs(Cartas[i]) < abs(Cartas[j]): \n",
    "            #==> Bug Solucionado, o correto é como abaixo:\n",
    "                                                \n",
    "                \n",
    "             if abs(Cartas[i][Inicio]) < abs(Cartas[j][Inicio]):\n",
    "    # e caso esta carta seja maior que uma das seguintes,\n",
    "    # trocar as duas de posicao com o auxilio de uma posicao temporaria.\n",
    "\n",
    "                temp = Cartas[i]\n",
    "                Cartas[i] = Cartas[j]\n",
    "                Cartas[j] = temp\n",
    "        \n",
    "         # nao esquecendo de incluir o vetor b no sort.     \n",
    "                temp2 = b[i]\n",
    "                b[i] = b[j]\n",
    "                b[j] = temp2\n",
    "            \n",
    "            \n",
    "                \n",
    "\n",
    "\t\t\t\n",
    "#print(\"lista final:\",Cartas)\n",
    "    return\n",
    "\n",
    "# Teste da funcao LineSort (Ver o resultado rodando novamente o print,\n",
    "# que fica logo abaixo da geraçao aleatoria da matriz )  \n",
    "\n",
    "#  LineSort(A, b, 0, N)\n",
    "#\n",
    "# abs(A[2]) # OBS: esta instrução dá erro com qualquer valor."
   ]
  },
  {
   "cell_type": "code",
   "execution_count": 13,
   "metadata": {
    "collapsed": false,
    "scrolled": true
   },
   "outputs": [],
   "source": [
    " # OBS : Copia modificada da tarefa feita somente para este teste.\n",
    "# Vou usar a função criada Abate duas vezes. Uma quando estiver escalonando,\n",
    "# e a outra quando estiver fazendo a (back substitution).\n",
    "\n",
    "for K in range(0,N-1,1): #Para K variando de 0 a N-1 de um em um\n",
    "   \n",
    "    LineSort(A, b, K, N) # BUG Solucionado apenas reiniciado o ambiente (Kernel)\n",
    "                      \n",
    "    Inicio = K+1\n",
    "    Fim = N\n",
    "    Abate(A,b,K,N,Inicio,Fim)\n",
    " \n",
    "for K in range(0,N-1,1): #Para K variando de 0 a N-1 de um em um\n",
    "    R = (N-1)-K  # Como in range nao decrementa, fiz R (Ré) que varia de n-1 A 0\n",
    "    Inicio = 0\n",
    "    Fim = R\n",
    "    Abate(A,b,R,N,Inicio,Fim)   \n",
    " \n",
    "solucao = [0]*N\n",
    "for i in range(N):\n",
    "    solucao[i] = b[i] / A[i][i]"
   ]
  },
  {
   "cell_type": "markdown",
   "metadata": {},
   "source": [
    "### Resultado esperado\n",
    "\n",
    "Quando executada, a célula abaixo deverá imprimir `True`."
   ]
  },
  {
   "cell_type": "code",
   "execution_count": 14,
   "metadata": {
    "collapsed": false,
    "scrolled": true
   },
   "outputs": [
    {
     "name": "stdout",
     "output_type": "stream",
     "text": [
      "True\n"
     ]
    }
   ],
   "source": [
    "print(np.allclose(np.linalg.solve(A, b), solucao))"
   ]
  },
  {
   "cell_type": "code",
   "execution_count": null,
   "metadata": {
    "collapsed": true
   },
   "outputs": [],
   "source": []
  }
 ],
 "metadata": {
  "kernelspec": {
   "display_name": "Python 3",
   "language": "python",
   "name": "python3"
  },
  "language_info": {
   "codemirror_mode": {
    "name": "ipython",
    "version": 3
   },
   "file_extension": ".py",
   "mimetype": "text/x-python",
   "name": "python",
   "nbconvert_exporter": "python",
   "pygments_lexer": "ipython3",
   "version": "3.4.3"
  }
 },
 "nbformat": 4,
 "nbformat_minor": 0
}
